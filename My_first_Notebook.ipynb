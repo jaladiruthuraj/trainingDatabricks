{
 "cells": [
  {
   "cell_type": "markdown",
   "metadata": {
    "application/vnd.databricks.v1+cell": {
     "cellMetadata": {},
     "inputWidgets": {},
     "nuid": "6ff874b6-67e4-4297-a09f-74bc24d758f1",
     "showTitle": false,
     "tableResultSettingsMap": {},
     "title": ""
    }
   },
   "source": [
    "#SQL Basics with my first Notebook"
   ]
  },
  {
   "cell_type": "code",
   "execution_count": 0,
   "metadata": {
    "application/vnd.databricks.v1+cell": {
     "cellMetadata": {
      "byteLimit": 2048000,
      "implicitDf": true,
      "rowLimit": 10000
     },
     "inputWidgets": {},
     "nuid": "9ed74394-d4b1-4549-a562-502d83df1e6b",
     "showTitle": false,
     "tableResultSettingsMap": {},
     "title": ""
    }
   },
   "outputs": [],
   "source": [
    "%sql\n",
    "USE CATALOG workspace;\n",
    "USE SCHEMA training;\n",
    "\n",
    "create or replace table workspace.training.first_table \n",
    "( id integer,\n",
    " name string,\n",
    " age integer,\n",
    " salary double);\n",
    "\n",
    " INSERT OVERWRITE workspace.training.first_table VALUES \n",
    " (1, 'John', 30, 50000),\n",
    " (2, 'Jane', 25, 60000),\n",
    " (3, 'Bob',  29, 48000),\n",
    " (4, 'Ali',  35, 55000),\n",
    " (5, 'Maria', 32, 52000),\n",
    " (6, 'Jose', 28, 49000),\n",
    " (7, 'Sara', 31, 51000),\n",
    " (8, 'Pedro', 27, 47000),\n",
    " (9, 'Fatima', 33, 53000),\n",
    " (10, 'Ahmed', 26, 46000);\n",
    "--select * from workspace.training.first_table;\n",
    "\n"
   ]
  },
  {
   "cell_type": "code",
   "execution_count": 0,
   "metadata": {
    "application/vnd.databricks.v1+cell": {
     "cellMetadata": {
      "byteLimit": 2048000,
      "rowLimit": 10000
     },
     "inputWidgets": {},
     "nuid": "e91db809-afbe-411b-ae17-f19d7ff6e4b4",
     "showTitle": false,
     "tableResultSettingsMap": {},
     "title": ""
    }
   },
   "outputs": [],
   "source": [
    "df = spark.table(\"workspace.training.first_table\")\n",
    "df.count()"
   ]
  },
  {
   "cell_type": "code",
   "execution_count": 0,
   "metadata": {
    "application/vnd.databricks.v1+cell": {
     "cellMetadata": {
      "byteLimit": 2048000,
      "implicitDf": true,
      "rowLimit": 10000
     },
     "inputWidgets": {},
     "nuid": "b462095b-da7a-4c80-82e1-728b4777ae5c",
     "showTitle": false,
     "tableResultSettingsMap": {},
     "title": ""
    }
   },
   "outputs": [],
   "source": [
    "%sql\n",
    "DECLARE mytab STRING = 'workspace.training.first_table';\n",
    "select count(*) from identifier(mytab);"
   ]
  },
  {
   "cell_type": "code",
   "execution_count": 0,
   "metadata": {
    "application/vnd.databricks.v1+cell": {
     "cellMetadata": {
      "byteLimit": 2048000,
      "implicitDf": true,
      "rowLimit": 10000
     },
     "inputWidgets": {},
     "nuid": "97629ee7-0220-4226-b3cb-1df404377932",
     "showTitle": false,
     "tableResultSettingsMap": {},
     "title": ""
    }
   },
   "outputs": [],
   "source": [
    "\n",
    "%python\n",
    "from pyspark.sql import *\n",
    "from pyspark.sql.functions import *\n",
    "from pyspark.sql.types import *\n",
    "df = spark.sql(\"SELECT * FROM IDENTIFIER(mytab)\")\n",
    "update_df = df.withColumn(\"dept\", when((col(\"age\")>20) & (col(\"age\")<=25), \"Gig Work\" ) \\\n",
    "                        .when((col(\"age\")>25) & (col(\"age\")<=30), \"IT Professional\") \\\n",
    "                        .when((col(\"age\")>30), \"Senior working people\")  )\n",
    "update_df.createOrReplaceTempView(\"mytab\")\n",
    "\n",
    "updating_create_sql_query = \"\"\"\n",
    "create or replace table workspace.training.emp_table \n",
    "( id integer,\n",
    " name string,\n",
    " age integer,\n",
    " salary double,\n",
    "dept string)   \"\"\"\n",
    "spark.sql(updating_create_sql_query)\n",
    "\n",
    "display(df)\n",
    "spark.sql(\"insert overwrite table workspace.training.emp_table select * from mytab\")\n"
   ]
  },
  {
   "cell_type": "code",
   "execution_count": 0,
   "metadata": {
    "application/vnd.databricks.v1+cell": {
     "cellMetadata": {
      "byteLimit": 2048000,
      "implicitDf": true,
      "rowLimit": 10000
     },
     "inputWidgets": {},
     "nuid": "22ea5d0d-77fe-4385-bf7f-2b99a13a15b6",
     "showTitle": false,
     "tableResultSettingsMap": {},
     "title": ""
    }
   },
   "outputs": [],
   "source": [
    "%sql\n",
    "SELECT id,name,age,salary,dept,\n",
    "         dense_rank() OVER(PARTITION BY dept ORDER BY salary DESC) as dense_rnk,\n",
    "         rank() OVER(PARTITION BY dept ORDER BY salary DESC) rnk,\n",
    "         row_number() OVER(PARTITION BY dept ORDER BY salary DESC) row_numb  \n",
    "    FROM workspace.training.emp_table order by dept,salary desc;"
   ]
  },
  {
   "cell_type": "code",
   "execution_count": 0,
   "metadata": {
    "application/vnd.databricks.v1+cell": {
     "cellMetadata": {
      "byteLimit": 2048000,
      "implicitDf": true,
      "rowLimit": 10000
     },
     "inputWidgets": {},
     "nuid": "3896a525-83b0-41ed-9ce7-74cfbb92f9c3",
     "showTitle": false,
     "tableResultSettingsMap": {},
     "title": ""
    }
   },
   "outputs": [],
   "source": [
    "%sql\n",
    "INSERT INTO workspace.training.first_table VALUES \n",
    " (11, 'John_2', 31, 51000),\n",
    " (12, 'Jane_2', 26, 60000),\n",
    " (13, 'Bob_2',  28, 48000),\n",
    " (14, 'Ali_2',  36, 55000),\n",
    " (15, 'Maria_2', 33, 52000);\n",
    " "
   ]
  },
  {
   "cell_type": "code",
   "execution_count": 0,
   "metadata": {
    "application/vnd.databricks.v1+cell": {
     "cellMetadata": {
      "byteLimit": 2048000,
      "implicitDf": true,
      "rowLimit": 10000
     },
     "inputWidgets": {},
     "nuid": "d310294d-d38c-4b2f-b68c-56bcfecd2a62",
     "showTitle": false,
     "tableResultSettingsMap": {},
     "title": ""
    }
   },
   "outputs": [],
   "source": [
    "%sql\n",
    "SELECT to_json(named_struct('time', to_timestamp('2015-08-26', 'yyyy-MM-dd')), map('timestampFormat', 'dd/MM/yyyy'));"
   ]
  },
  {
   "cell_type": "code",
   "execution_count": 0,
   "metadata": {
    "application/vnd.databricks.v1+cell": {
     "cellMetadata": {
      "byteLimit": 2048000,
      "implicitDf": true,
      "rowLimit": 10000
     },
     "inputWidgets": {},
     "nuid": "3b6fff6f-2a1e-40f0-8f5d-0f30efdd626b",
     "showTitle": false,
     "tableResultSettingsMap": {},
     "title": ""
    }
   },
   "outputs": [],
   "source": [
    "%sql\n",
    "SELECT from_csv('26/08/2015', 'time Timestamp', map('timestampFormat', 'dd/MM/yyyy'));"
   ]
  },
  {
   "cell_type": "code",
   "execution_count": 0,
   "metadata": {
    "application/vnd.databricks.v1+cell": {
     "cellMetadata": {},
     "inputWidgets": {},
     "nuid": "bfeb1075-81de-4f6d-a2a6-da472ee3ff6c",
     "showTitle": false,
     "tableResultSettingsMap": {},
     "title": ""
    }
   },
   "outputs": [],
   "source": []
  }
 ],
 "metadata": {
  "application/vnd.databricks.v1+notebook": {
   "computePreferences": null,
   "dashboards": [],
   "environmentMetadata": {
    "base_environment": "",
    "environment_version": "2"
   },
   "inputWidgetPreferences": null,
   "language": "python",
   "notebookMetadata": {
    "mostRecentlyExecutedCommandWithImplicitDF": {
     "commandId": 8009196895474384,
     "dataframes": [
      "_sqldf"
     ]
    },
    "pythonIndentUnit": 4
   },
   "notebookName": "My_first_Notebook",
   "widgets": {}
  },
  "language_info": {
   "name": "python"
  }
 },
 "nbformat": 4,
 "nbformat_minor": 0
}
