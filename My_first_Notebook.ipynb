{
 "cells": [
  {
   "cell_type": "markdown",
   "metadata": {
    "application/vnd.databricks.v1+cell": {
     "cellMetadata": {},
     "inputWidgets": {},
     "nuid": "6ff874b6-67e4-4297-a09f-74bc24d758f1",
     "showTitle": false,
     "tableResultSettingsMap": {},
     "title": ""
    }
   },
   "source": [
    "#SQL Basics with my first Notebook"
   ]
  },
  {
   "cell_type": "code",
   "execution_count": 0,
   "metadata": {
    "application/vnd.databricks.v1+cell": {
     "cellMetadata": {
      "byteLimit": 2048000,
      "implicitDf": true,
      "rowLimit": 10000
     },
     "inputWidgets": {},
     "nuid": "9ed74394-d4b1-4549-a562-502d83df1e6b",
     "showTitle": false,
     "tableResultSettingsMap": {},
     "title": ""
    }
   },
   "outputs": [
    {
     "output_type": "display_data",
     "data": {
      "text/html": [
       "<style scoped>\n",
       "  .table-result-container {\n",
       "    max-height: 300px;\n",
       "    overflow: auto;\n",
       "  }\n",
       "  table, th, td {\n",
       "    border: 1px solid black;\n",
       "    border-collapse: collapse;\n",
       "  }\n",
       "  th, td {\n",
       "    padding: 5px;\n",
       "  }\n",
       "  th {\n",
       "    text-align: left;\n",
       "  }\n",
       "</style><div class='table-result-container'><table class='table-result'><thead style='background-color: white'><tr><th>num_affected_rows</th><th>num_inserted_rows</th></tr></thead><tbody><tr><td>10</td><td>10</td></tr></tbody></table></div>"
      ]
     },
     "metadata": {
      "application/vnd.databricks.v1+output": {
       "addedWidgets": {},
       "aggData": [],
       "aggError": "",
       "aggOverflow": false,
       "aggSchema": [],
       "aggSeriesLimitReached": false,
       "aggType": "",
       "arguments": {},
       "columnCustomDisplayInfos": {},
       "data": [
        [
         10,
         10
        ]
       ],
       "datasetInfos": [
        {
         "name": "_sqldf",
         "schema": {
          "fields": [
           {
            "metadata": {},
            "name": "num_affected_rows",
            "nullable": true,
            "type": "long"
           },
           {
            "metadata": {},
            "name": "num_inserted_rows",
            "nullable": true,
            "type": "long"
           }
          ],
          "type": "struct"
         },
         "tableIdentifier": null,
         "typeStr": "pyspark.sql.connect.dataframe.DataFrame"
        }
       ],
       "dbfsResultPath": null,
       "isJsonSchema": true,
       "metadata": {
        "createTempViewForImplicitDf": true,
        "dataframeName": "_sqldf",
        "executionCount": 52
       },
       "overflow": false,
       "plotOptions": {
        "customPlotOptions": {},
        "displayType": "table",
        "pivotAggregation": null,
        "pivotColumns": null,
        "xColumns": null,
        "yColumns": null
       },
       "removedWidgets": [],
       "schema": [
        {
         "metadata": "{}",
         "name": "num_affected_rows",
         "type": "\"long\""
        },
        {
         "metadata": "{}",
         "name": "num_inserted_rows",
         "type": "\"long\""
        }
       ],
       "type": "table"
      }
     },
     "output_type": "display_data"
    }
   ],
   "source": [
    "%sql\n",
    "USE CATALOG workspace;\n",
    "USE SCHEMA training;\n",
    "\n",
    "create or replace table workspace.training.first_table \n",
    "( id integer,\n",
    " name string,\n",
    " age integer,\n",
    " salary double);\n",
    "\n",
    " INSERT OVERWRITE workspace.training.first_table VALUES \n",
    " (1, 'John', 30, 50000),\n",
    " (2, 'Jane', 25, 60000),\n",
    " (3, 'Bob',  29, 48000),\n",
    " (4, 'Ali',  35, 55000),\n",
    " (5, 'Maria', 32, 52000),\n",
    " (6, 'Jose', 28, 49000),\n",
    " (7, 'Sara', 31, 51000),\n",
    " (8, 'Pedro', 27, 47000),\n",
    " (9, 'Fatima', 33, 53000),\n",
    " (10, 'Ahmed', 26, 46000);\n",
    "--select * from workspace.training.first_table;\n",
    "\n"
   ]
  },
  {
   "cell_type": "code",
   "execution_count": 0,
   "metadata": {
    "application/vnd.databricks.v1+cell": {
     "cellMetadata": {
      "byteLimit": 2048000,
      "rowLimit": 10000
     },
     "inputWidgets": {},
     "nuid": "e91db809-afbe-411b-ae17-f19d7ff6e4b4",
     "showTitle": false,
     "tableResultSettingsMap": {},
     "title": ""
    }
   },
   "outputs": [
    {
     "output_type": "execute_result",
     "data": {
      "text/plain": [
       "15"
      ]
     },
     "execution_count": 69,
     "metadata": {},
     "output_type": "execute_result"
    }
   ],
   "source": [
    "df = spark.table(\"workspace.training.first_table\")\n",
    "df.count()"
   ]
  },
  {
   "cell_type": "code",
   "execution_count": 0,
   "metadata": {
    "application/vnd.databricks.v1+cell": {
     "cellMetadata": {
      "byteLimit": 2048000,
      "implicitDf": true,
      "rowLimit": 10000
     },
     "inputWidgets": {},
     "nuid": "b462095b-da7a-4c80-82e1-728b4777ae5c",
     "showTitle": false,
     "tableResultSettingsMap": {},
     "title": ""
    }
   },
   "outputs": [
    {
     "output_type": "display_data",
     "data": {
      "text/html": [
       "<style scoped>\n",
       "  .table-result-container {\n",
       "    max-height: 300px;\n",
       "    overflow: auto;\n",
       "  }\n",
       "  table, th, td {\n",
       "    border: 1px solid black;\n",
       "    border-collapse: collapse;\n",
       "  }\n",
       "  th, td {\n",
       "    padding: 5px;\n",
       "  }\n",
       "  th {\n",
       "    text-align: left;\n",
       "  }\n",
       "</style><div class='table-result-container'><table class='table-result'><thead style='background-color: white'><tr><th>count(*)</th></tr></thead><tbody><tr><td>15</td></tr></tbody></table></div>"
      ]
     },
     "metadata": {
      "application/vnd.databricks.v1+output": {
       "addedWidgets": {},
       "aggData": [],
       "aggError": "",
       "aggOverflow": false,
       "aggSchema": [],
       "aggSeriesLimitReached": false,
       "aggType": "",
       "arguments": {},
       "columnCustomDisplayInfos": {},
       "data": [
        [
         15
        ]
       ],
       "datasetInfos": [
        {
         "name": "_sqldf",
         "schema": {
          "fields": [
           {
            "metadata": {},
            "name": "count(*)",
            "nullable": false,
            "type": "long"
           }
          ],
          "type": "struct"
         },
         "tableIdentifier": null,
         "typeStr": "pyspark.sql.connect.dataframe.DataFrame"
        }
       ],
       "dbfsResultPath": null,
       "isJsonSchema": true,
       "metadata": {
        "createTempViewForImplicitDf": true,
        "dataframeName": "_sqldf",
        "executionCount": 73
       },
       "overflow": false,
       "plotOptions": {
        "customPlotOptions": {},
        "displayType": "table",
        "pivotAggregation": null,
        "pivotColumns": null,
        "xColumns": null,
        "yColumns": null
       },
       "removedWidgets": [],
       "schema": [
        {
         "metadata": "{}",
         "name": "count(*)",
         "type": "\"long\""
        }
       ],
       "type": "table"
      }
     },
     "output_type": "display_data"
    }
   ],
   "source": [
    "%sql\n",
    "DECLARE mytab STRING = 'workspace.training.first_table';\n",
    "select count(*) from identifier(mytab);"
   ]
  },
  {
   "cell_type": "code",
   "execution_count": 0,
   "metadata": {
    "application/vnd.databricks.v1+cell": {
     "cellMetadata": {
      "byteLimit": 2048000,
      "implicitDf": true,
      "rowLimit": 10000
     },
     "inputWidgets": {},
     "nuid": "97629ee7-0220-4226-b3cb-1df404377932",
     "showTitle": false,
     "tableResultSettingsMap": {},
     "title": ""
    }
   },
   "outputs": [
    {
     "output_type": "display_data",
     "data": {
      "text/html": [
       "<style scoped>\n",
       "  .table-result-container {\n",
       "    max-height: 300px;\n",
       "    overflow: auto;\n",
       "  }\n",
       "  table, th, td {\n",
       "    border: 1px solid black;\n",
       "    border-collapse: collapse;\n",
       "  }\n",
       "  th, td {\n",
       "    padding: 5px;\n",
       "  }\n",
       "  th {\n",
       "    text-align: left;\n",
       "  }\n",
       "</style><div class='table-result-container'><table class='table-result'><thead style='background-color: white'><tr><th>id</th><th>name</th><th>age</th><th>salary</th></tr></thead><tbody><tr><td>1</td><td>John</td><td>30</td><td>50000.0</td></tr><tr><td>2</td><td>Jane</td><td>25</td><td>60000.0</td></tr><tr><td>3</td><td>Bob</td><td>29</td><td>48000.0</td></tr><tr><td>4</td><td>Ali</td><td>35</td><td>55000.0</td></tr><tr><td>5</td><td>Maria</td><td>32</td><td>52000.0</td></tr><tr><td>6</td><td>Jose</td><td>28</td><td>49000.0</td></tr><tr><td>7</td><td>Sara</td><td>31</td><td>51000.0</td></tr><tr><td>8</td><td>Pedro</td><td>27</td><td>47000.0</td></tr><tr><td>9</td><td>Fatima</td><td>33</td><td>53000.0</td></tr><tr><td>10</td><td>Ahmed</td><td>26</td><td>46000.0</td></tr><tr><td>11</td><td>John_2</td><td>31</td><td>51000.0</td></tr><tr><td>12</td><td>Jane_2</td><td>26</td><td>60000.0</td></tr><tr><td>13</td><td>Bob_2</td><td>28</td><td>48000.0</td></tr><tr><td>14</td><td>Ali_2</td><td>36</td><td>55000.0</td></tr><tr><td>15</td><td>Maria_2</td><td>33</td><td>52000.0</td></tr></tbody></table></div>"
      ]
     },
     "metadata": {
      "application/vnd.databricks.v1+output": {
       "addedWidgets": {},
       "aggData": [],
       "aggError": "",
       "aggOverflow": false,
       "aggSchema": [],
       "aggSeriesLimitReached": false,
       "aggType": "",
       "arguments": {},
       "columnCustomDisplayInfos": {},
       "data": [
        [
         1,
         "John",
         30,
         50000.0
        ],
        [
         2,
         "Jane",
         25,
         60000.0
        ],
        [
         3,
         "Bob",
         29,
         48000.0
        ],
        [
         4,
         "Ali",
         35,
         55000.0
        ],
        [
         5,
         "Maria",
         32,
         52000.0
        ],
        [
         6,
         "Jose",
         28,
         49000.0
        ],
        [
         7,
         "Sara",
         31,
         51000.0
        ],
        [
         8,
         "Pedro",
         27,
         47000.0
        ],
        [
         9,
         "Fatima",
         33,
         53000.0
        ],
        [
         10,
         "Ahmed",
         26,
         46000.0
        ],
        [
         11,
         "John_2",
         31,
         51000.0
        ],
        [
         12,
         "Jane_2",
         26,
         60000.0
        ],
        [
         13,
         "Bob_2",
         28,
         48000.0
        ],
        [
         14,
         "Ali_2",
         36,
         55000.0
        ],
        [
         15,
         "Maria_2",
         33,
         52000.0
        ]
       ],
       "datasetInfos": [],
       "dbfsResultPath": null,
       "isJsonSchema": true,
       "metadata": {},
       "overflow": false,
       "plotOptions": {
        "customPlotOptions": {},
        "displayType": "table",
        "pivotAggregation": null,
        "pivotColumns": null,
        "xColumns": null,
        "yColumns": null
       },
       "removedWidgets": [],
       "schema": [
        {
         "metadata": "{}",
         "name": "id",
         "type": "\"integer\""
        },
        {
         "metadata": "{}",
         "name": "name",
         "type": "\"string\""
        },
        {
         "metadata": "{}",
         "name": "age",
         "type": "\"integer\""
        },
        {
         "metadata": "{}",
         "name": "salary",
         "type": "\"double\""
        }
       ],
       "type": "table"
      }
     },
     "output_type": "display_data"
    },
    {
     "output_type": "execute_result",
     "data": {
      "text/plain": [
       "DataFrame[num_affected_rows: bigint, num_inserted_rows: bigint]"
      ]
     },
     "execution_count": 74,
     "metadata": {},
     "output_type": "execute_result"
    }
   ],
   "source": [
    "\n",
    "%python\n",
    "from pyspark.sql import *\n",
    "from pyspark.sql.functions import *\n",
    "from pyspark.sql.types import *\n",
    "df = spark.sql(\"SELECT * FROM IDENTIFIER(mytab)\")\n",
    "update_df = df.withColumn(\"dept\", when((col(\"age\")>20) & (col(\"age\")<=25), \"Gig Work\" ) \\\n",
    "                        .when((col(\"age\")>25) & (col(\"age\")<=30), \"IT Professional\") \\\n",
    "                        .when((col(\"age\")>30), \"Senior working people\")  )\n",
    "update_df.createOrReplaceTempView(\"mytab\")\n",
    "\n",
    "updating_create_sql_query = \"\"\"\n",
    "create or replace table workspace.training.emp_table \n",
    "( id integer,\n",
    " name string,\n",
    " age integer,\n",
    " salary double,\n",
    "dept string)   \"\"\"\n",
    "spark.sql(updating_create_sql_query)\n",
    "\n",
    "display(df)\n",
    "spark.sql(\"insert overwrite table workspace.training.emp_table select * from mytab\")\n"
   ]
  },
  {
   "cell_type": "code",
   "execution_count": 0,
   "metadata": {
    "application/vnd.databricks.v1+cell": {
     "cellMetadata": {
      "byteLimit": 2048000,
      "implicitDf": true,
      "rowLimit": 10000
     },
     "inputWidgets": {},
     "nuid": "22ea5d0d-77fe-4385-bf7f-2b99a13a15b6",
     "showTitle": false,
     "tableResultSettingsMap": {},
     "title": ""
    }
   },
   "outputs": [
    {
     "output_type": "display_data",
     "data": {
      "text/html": [
       "<style scoped>\n",
       "  .table-result-container {\n",
       "    max-height: 300px;\n",
       "    overflow: auto;\n",
       "  }\n",
       "  table, th, td {\n",
       "    border: 1px solid black;\n",
       "    border-collapse: collapse;\n",
       "  }\n",
       "  th, td {\n",
       "    padding: 5px;\n",
       "  }\n",
       "  th {\n",
       "    text-align: left;\n",
       "  }\n",
       "</style><div class='table-result-container'><table class='table-result'><thead style='background-color: white'><tr><th>id</th><th>name</th><th>age</th><th>salary</th><th>dept</th><th>dense_rnk</th><th>rnk</th><th>row_numb</th></tr></thead><tbody><tr><td>2</td><td>Jane</td><td>25</td><td>60000.0</td><td>Gig Work</td><td>1</td><td>1</td><td>1</td></tr><tr><td>12</td><td>Jane_2</td><td>26</td><td>60000.0</td><td>IT Professional</td><td>1</td><td>1</td><td>1</td></tr><tr><td>1</td><td>John</td><td>30</td><td>50000.0</td><td>IT Professional</td><td>2</td><td>2</td><td>2</td></tr><tr><td>6</td><td>Jose</td><td>28</td><td>49000.0</td><td>IT Professional</td><td>3</td><td>3</td><td>3</td></tr><tr><td>3</td><td>Bob</td><td>29</td><td>48000.0</td><td>IT Professional</td><td>4</td><td>4</td><td>4</td></tr><tr><td>13</td><td>Bob_2</td><td>28</td><td>48000.0</td><td>IT Professional</td><td>4</td><td>4</td><td>5</td></tr><tr><td>8</td><td>Pedro</td><td>27</td><td>47000.0</td><td>IT Professional</td><td>5</td><td>6</td><td>6</td></tr><tr><td>10</td><td>Ahmed</td><td>26</td><td>46000.0</td><td>IT Professional</td><td>6</td><td>7</td><td>7</td></tr><tr><td>4</td><td>Ali</td><td>35</td><td>55000.0</td><td>Senior working people</td><td>1</td><td>1</td><td>1</td></tr><tr><td>14</td><td>Ali_2</td><td>36</td><td>55000.0</td><td>Senior working people</td><td>1</td><td>1</td><td>2</td></tr><tr><td>9</td><td>Fatima</td><td>33</td><td>53000.0</td><td>Senior working people</td><td>2</td><td>3</td><td>3</td></tr><tr><td>5</td><td>Maria</td><td>32</td><td>52000.0</td><td>Senior working people</td><td>3</td><td>4</td><td>4</td></tr><tr><td>15</td><td>Maria_2</td><td>33</td><td>52000.0</td><td>Senior working people</td><td>3</td><td>4</td><td>5</td></tr><tr><td>7</td><td>Sara</td><td>31</td><td>51000.0</td><td>Senior working people</td><td>4</td><td>6</td><td>6</td></tr><tr><td>11</td><td>John_2</td><td>31</td><td>51000.0</td><td>Senior working people</td><td>4</td><td>6</td><td>7</td></tr></tbody></table></div>"
      ]
     },
     "metadata": {
      "application/vnd.databricks.v1+output": {
       "addedWidgets": {},
       "aggData": [],
       "aggError": "",
       "aggOverflow": false,
       "aggSchema": [],
       "aggSeriesLimitReached": false,
       "aggType": "",
       "arguments": {},
       "columnCustomDisplayInfos": {},
       "data": [
        [
         2,
         "Jane",
         25,
         60000.0,
         "Gig Work",
         1,
         1,
         1
        ],
        [
         12,
         "Jane_2",
         26,
         60000.0,
         "IT Professional",
         1,
         1,
         1
        ],
        [
         1,
         "John",
         30,
         50000.0,
         "IT Professional",
         2,
         2,
         2
        ],
        [
         6,
         "Jose",
         28,
         49000.0,
         "IT Professional",
         3,
         3,
         3
        ],
        [
         3,
         "Bob",
         29,
         48000.0,
         "IT Professional",
         4,
         4,
         4
        ],
        [
         13,
         "Bob_2",
         28,
         48000.0,
         "IT Professional",
         4,
         4,
         5
        ],
        [
         8,
         "Pedro",
         27,
         47000.0,
         "IT Professional",
         5,
         6,
         6
        ],
        [
         10,
         "Ahmed",
         26,
         46000.0,
         "IT Professional",
         6,
         7,
         7
        ],
        [
         4,
         "Ali",
         35,
         55000.0,
         "Senior working people",
         1,
         1,
         1
        ],
        [
         14,
         "Ali_2",
         36,
         55000.0,
         "Senior working people",
         1,
         1,
         2
        ],
        [
         9,
         "Fatima",
         33,
         53000.0,
         "Senior working people",
         2,
         3,
         3
        ],
        [
         5,
         "Maria",
         32,
         52000.0,
         "Senior working people",
         3,
         4,
         4
        ],
        [
         15,
         "Maria_2",
         33,
         52000.0,
         "Senior working people",
         3,
         4,
         5
        ],
        [
         7,
         "Sara",
         31,
         51000.0,
         "Senior working people",
         4,
         6,
         6
        ],
        [
         11,
         "John_2",
         31,
         51000.0,
         "Senior working people",
         4,
         6,
         7
        ]
       ],
       "datasetInfos": [
        {
         "name": "_sqldf",
         "schema": {
          "fields": [
           {
            "metadata": {},
            "name": "id",
            "nullable": true,
            "type": "integer"
           },
           {
            "metadata": {},
            "name": "name",
            "nullable": true,
            "type": "string"
           },
           {
            "metadata": {},
            "name": "age",
            "nullable": true,
            "type": "integer"
           },
           {
            "metadata": {},
            "name": "salary",
            "nullable": true,
            "type": "double"
           },
           {
            "metadata": {},
            "name": "dept",
            "nullable": true,
            "type": "string"
           },
           {
            "metadata": {},
            "name": "dense_rnk",
            "nullable": false,
            "type": "integer"
           },
           {
            "metadata": {},
            "name": "rnk",
            "nullable": false,
            "type": "integer"
           },
           {
            "metadata": {},
            "name": "row_numb",
            "nullable": false,
            "type": "integer"
           }
          ],
          "type": "struct"
         },
         "tableIdentifier": null,
         "typeStr": "pyspark.sql.connect.dataframe.DataFrame"
        }
       ],
       "dbfsResultPath": null,
       "isJsonSchema": true,
       "metadata": {
        "createTempViewForImplicitDf": true,
        "dataframeName": "_sqldf",
        "executionCount": 75
       },
       "overflow": false,
       "plotOptions": {
        "customPlotOptions": {},
        "displayType": "table",
        "pivotAggregation": null,
        "pivotColumns": null,
        "xColumns": null,
        "yColumns": null
       },
       "removedWidgets": [],
       "schema": [
        {
         "metadata": "{}",
         "name": "id",
         "type": "\"integer\""
        },
        {
         "metadata": "{}",
         "name": "name",
         "type": "\"string\""
        },
        {
         "metadata": "{}",
         "name": "age",
         "type": "\"integer\""
        },
        {
         "metadata": "{}",
         "name": "salary",
         "type": "\"double\""
        },
        {
         "metadata": "{}",
         "name": "dept",
         "type": "\"string\""
        },
        {
         "metadata": "{}",
         "name": "dense_rnk",
         "type": "\"integer\""
        },
        {
         "metadata": "{}",
         "name": "rnk",
         "type": "\"integer\""
        },
        {
         "metadata": "{}",
         "name": "row_numb",
         "type": "\"integer\""
        }
       ],
       "type": "table"
      }
     },
     "output_type": "display_data"
    }
   ],
   "source": [
    "%sql\n",
    "SELECT id,name,age,salary,dept,\n",
    "         dense_rank() OVER(PARTITION BY dept ORDER BY salary DESC) as dense_rnk,\n",
    "         rank() OVER(PARTITION BY dept ORDER BY salary DESC) rnk,\n",
    "         row_number() OVER(PARTITION BY dept ORDER BY salary DESC) row_numb  \n",
    "    FROM workspace.training.emp_table order by dept,salary desc;"
   ]
  },
  {
   "cell_type": "code",
   "execution_count": 0,
   "metadata": {
    "application/vnd.databricks.v1+cell": {
     "cellMetadata": {
      "byteLimit": 2048000,
      "implicitDf": true,
      "rowLimit": 10000
     },
     "inputWidgets": {},
     "nuid": "3896a525-83b0-41ed-9ce7-74cfbb92f9c3",
     "showTitle": false,
     "tableResultSettingsMap": {},
     "title": ""
    }
   },
   "outputs": [
    {
     "output_type": "display_data",
     "data": {
      "text/html": [
       "<style scoped>\n",
       "  .table-result-container {\n",
       "    max-height: 300px;\n",
       "    overflow: auto;\n",
       "  }\n",
       "  table, th, td {\n",
       "    border: 1px solid black;\n",
       "    border-collapse: collapse;\n",
       "  }\n",
       "  th, td {\n",
       "    padding: 5px;\n",
       "  }\n",
       "  th {\n",
       "    text-align: left;\n",
       "  }\n",
       "</style><div class='table-result-container'><table class='table-result'><thead style='background-color: white'><tr><th>num_affected_rows</th><th>num_inserted_rows</th></tr></thead><tbody><tr><td>5</td><td>5</td></tr></tbody></table></div>"
      ]
     },
     "metadata": {
      "application/vnd.databricks.v1+output": {
       "addedWidgets": {},
       "aggData": [],
       "aggError": "",
       "aggOverflow": false,
       "aggSchema": [],
       "aggSeriesLimitReached": false,
       "aggType": "",
       "arguments": {},
       "columnCustomDisplayInfos": {},
       "data": [
        [
         5,
         5
        ]
       ],
       "datasetInfos": [
        {
         "name": "_sqldf",
         "schema": {
          "fields": [
           {
            "metadata": {},
            "name": "num_affected_rows",
            "nullable": true,
            "type": "long"
           },
           {
            "metadata": {},
            "name": "num_inserted_rows",
            "nullable": true,
            "type": "long"
           }
          ],
          "type": "struct"
         },
         "tableIdentifier": null,
         "typeStr": "pyspark.sql.connect.dataframe.DataFrame"
        }
       ],
       "dbfsResultPath": null,
       "isJsonSchema": true,
       "metadata": {
        "createTempViewForImplicitDf": true,
        "dataframeName": "_sqldf",
        "executionCount": 65
       },
       "overflow": false,
       "plotOptions": {
        "customPlotOptions": {},
        "displayType": "table",
        "pivotAggregation": null,
        "pivotColumns": null,
        "xColumns": null,
        "yColumns": null
       },
       "removedWidgets": [],
       "schema": [
        {
         "metadata": "{}",
         "name": "num_affected_rows",
         "type": "\"long\""
        },
        {
         "metadata": "{}",
         "name": "num_inserted_rows",
         "type": "\"long\""
        }
       ],
       "type": "table"
      }
     },
     "output_type": "display_data"
    }
   ],
   "source": [
    "%sql\n",
    "INSERT INTO workspace.training.first_table VALUES \n",
    " (11, 'John_2', 31, 51000),\n",
    " (12, 'Jane_2', 26, 60000),\n",
    " (13, 'Bob_2',  28, 48000),\n",
    " (14, 'Ali_2',  36, 55000),\n",
    " (15, 'Maria_2', 33, 52000);\n",
    " "
   ]
  },
  {
   "cell_type": "code",
   "execution_count": 0,
   "metadata": {
    "application/vnd.databricks.v1+cell": {
     "cellMetadata": {
      "byteLimit": 2048000,
      "implicitDf": true,
      "rowLimit": 10000
     },
     "inputWidgets": {},
     "nuid": "d310294d-d38c-4b2f-b68c-56bcfecd2a62",
     "showTitle": false,
     "tableResultSettingsMap": {},
     "title": ""
    }
   },
   "outputs": [
    {
     "output_type": "display_data",
     "data": {
      "text/html": [
       "<style scoped>\n",
       "  .table-result-container {\n",
       "    max-height: 300px;\n",
       "    overflow: auto;\n",
       "  }\n",
       "  table, th, td {\n",
       "    border: 1px solid black;\n",
       "    border-collapse: collapse;\n",
       "  }\n",
       "  th, td {\n",
       "    padding: 5px;\n",
       "  }\n",
       "  th {\n",
       "    text-align: left;\n",
       "  }\n",
       "</style><div class='table-result-container'><table class='table-result'><thead style='background-color: white'><tr><th>to_json(named_struct('time',to_timestamp('2015-08-26','yyyy-MM-dd')),map('timestampFormat','dd/MM/yyyy'))</th></tr></thead><tbody><tr><td>{\"time\":\"26/08/2015\"}</td></tr></tbody></table></div>"
      ]
     },
     "metadata": {
      "application/vnd.databricks.v1+output": {
       "addedWidgets": {},
       "aggData": [],
       "aggError": "",
       "aggOverflow": false,
       "aggSchema": [],
       "aggSeriesLimitReached": false,
       "aggType": "",
       "arguments": {},
       "columnCustomDisplayInfos": {},
       "data": [
        [
         "{\"time\":\"26/08/2015\"}"
        ]
       ],
       "datasetInfos": [
        {
         "name": "_sqldf",
         "schema": {
          "fields": [
           {
            "metadata": {},
            "name": "to_json(named_struct('time',to_timestamp('2015-08-26','yyyy-MM-dd')),map('timestampFormat','dd/MM/yyyy'))",
            "nullable": true,
            "type": "string"
           }
          ],
          "type": "struct"
         },
         "tableIdentifier": null,
         "typeStr": "pyspark.sql.connect.dataframe.DataFrame"
        }
       ],
       "dbfsResultPath": null,
       "isJsonSchema": true,
       "metadata": {
        "createTempViewForImplicitDf": true,
        "dataframeName": "_sqldf",
        "executionCount": 77
       },
       "overflow": false,
       "plotOptions": {
        "customPlotOptions": {},
        "displayType": "table",
        "pivotAggregation": null,
        "pivotColumns": null,
        "xColumns": null,
        "yColumns": null
       },
       "removedWidgets": [],
       "schema": [
        {
         "metadata": "{}",
         "name": "to_json(named_struct('time',to_timestamp('2015-08-26','yyyy-MM-dd')),map('timestampFormat','dd/MM/yyyy'))",
         "type": "\"string\""
        }
       ],
       "type": "table"
      }
     },
     "output_type": "display_data"
    }
   ],
   "source": [
    "%sql\n",
    "SELECT to_json(named_struct('time', to_timestamp('2015-08-26', 'yyyy-MM-dd')), map('timestampFormat', 'dd/MM/yyyy'));"
   ]
  },
  {
   "cell_type": "code",
   "execution_count": 0,
   "metadata": {
    "application/vnd.databricks.v1+cell": {
     "cellMetadata": {},
     "inputWidgets": {},
     "nuid": "3b6fff6f-2a1e-40f0-8f5d-0f30efdd626b",
     "showTitle": false,
     "tableResultSettingsMap": {},
     "title": ""
    }
   },
   "outputs": [],
   "source": []
  }
 ],
 "metadata": {
  "application/vnd.databricks.v1+notebook": {
   "computePreferences": null,
   "dashboards": [],
   "environmentMetadata": {
    "base_environment": "",
    "environment_version": "2"
   },
   "inputWidgetPreferences": null,
   "language": "python",
   "notebookMetadata": {
    "mostRecentlyExecutedCommandWithImplicitDF": {
     "commandId": 7921657418650704,
     "dataframes": [
      "_sqldf"
     ]
    },
    "pythonIndentUnit": 4
   },
   "notebookName": "My_first_Notebook",
   "widgets": {}
  },
  "language_info": {
   "name": "python"
  }
 },
 "nbformat": 4,
 "nbformat_minor": 0
}